{
  "nbformat": 4,
  "nbformat_minor": 0,
  "metadata": {
    "colab": {
      "private_outputs": true,
      "provenance": []
    },
    "kernelspec": {
      "name": "python3",
      "display_name": "Python 3"
    },
    "language_info": {
      "name": "python"
    }
  },
  "cells": [
    {
      "cell_type": "code",
      "source": [
        "# These are usually pre-installed in Colab\n",
        "import pandas as pd\n",
        "import matplotlib.pyplot as plt\n",
        "import seaborn as sns\n",
        "\n",
        "# Optional settings for better visuals\n",
        "sns.set(style='whitegrid')\n"
      ],
      "metadata": {
        "id": "KD05M_yips4Z"
      },
      "execution_count": null,
      "outputs": []
    },
    {
      "cell_type": "code",
      "source": [
        "from google.colab import files\n",
        "uploaded = files.upload()\n"
      ],
      "metadata": {
        "id": "h3eXsq1Apv0m"
      },
      "execution_count": null,
      "outputs": []
    },
    {
      "cell_type": "code",
      "execution_count": null,
      "metadata": {
        "id": "xQ1JU5L4pJiz"
      },
      "outputs": [],
      "source": [
        "import io\n",
        "\n",
        "# Replace with your uploaded filename\n",
        "df = pd.read_csv(io.BytesIO(uploaded['Geldium_Dataset.csv']))\n",
        "\n",
        "# Preview the dataset\n",
        "df.head()\n"
      ]
    },
    {
      "cell_type": "code",
      "source": [
        "# Basic shape and column info\n",
        "print(\"Shape:\", df.shape)\n",
        "print(\"\\nColumns:\\n\", df.columns.tolist())\n",
        "\n",
        "# Data types and null values\n",
        "df.info()\n",
        "\n",
        "# Summary statistics\n",
        "df.describe()\n"
      ],
      "metadata": {
        "id": "7F1aaCRLuPnk"
      },
      "execution_count": null,
      "outputs": []
    },
    {
      "cell_type": "code",
      "source": [
        "# Show number of missing values in each column\n",
        "df.isnull().sum().sort_values(ascending=False)\n"
      ],
      "metadata": {
        "id": "gEfyV7FhuY3W"
      },
      "execution_count": null,
      "outputs": []
    },
    {
      "cell_type": "code",
      "source": [
        "# Impute missing income with median\n",
        "df['Income'].fillna(df['Income'].median(), inplace=True)\n"
      ],
      "metadata": {
        "id": "qfIvpTR9urOK"
      },
      "execution_count": null,
      "outputs": []
    },
    {
      "cell_type": "code",
      "source": [
        "# Impute missing credit utilization with mean\n",
        "df['Credit_Utilization'].fillna(df['Credit_Utilization'].mean(), inplace=True)\n"
      ],
      "metadata": {
        "id": "drfQ8K-zuyD4"
      },
      "execution_count": null,
      "outputs": []
    },
    {
      "cell_type": "code",
      "source": [
        "df.isnull().sum()\n"
      ],
      "metadata": {
        "id": "vaD2mKpYuzyC"
      },
      "execution_count": null,
      "outputs": []
    },
    {
      "cell_type": "code",
      "source": [
        "import seaborn as sns\n",
        "import matplotlib.pyplot as plt\n",
        "\n",
        "plt.figure(figsize=(8, 5))\n",
        "sns.boxplot(x='Delinquent_Account', y='Credit_Utilization', data=df)\n",
        "plt.title('Credit Utilization vs. Delinquency')\n",
        "plt.xlabel('Delinquent Account (0=No, 1=Yes)')\n",
        "plt.ylabel('Credit Utilization (%)')\n",
        "plt.show()\n"
      ],
      "metadata": {
        "id": "kmTOvNJ_vB5q"
      },
      "execution_count": null,
      "outputs": []
    },
    {
      "cell_type": "code",
      "source": [
        "from sklearn.model_selection import train_test_split\n",
        "from sklearn.linear_model import LogisticRegression\n",
        "from sklearn.metrics import classification_report\n",
        "\n",
        "# Select features\n",
        "X = df[['Income', 'Credit_Utilization', 'Missed_Payments', 'Debt_to_Income_Ratio']]\n",
        "y = df['Delinquent_Account']\n",
        "\n",
        "# Train-test split\n",
        "X_train, X_test, y_train, y_test = train_test_split(X, y, test_size=0.2, random_state=42)\n",
        "\n",
        "# Build model\n",
        "model = LogisticRegression()\n",
        "model.fit(X_train, y_train)\n",
        "\n",
        "# Predict & evaluate\n",
        "y_pred = model.predict(X_test)\n",
        "print(classification_report(y_test, y_pred))\n"
      ],
      "metadata": {
        "id": "MdrFLjdE8SMP"
      },
      "execution_count": null,
      "outputs": []
    },
    {
      "cell_type": "code",
      "source": [
        "from sklearn.model_selection import train_test_split\n",
        "from sklearn.linear_model import LogisticRegression\n",
        "from sklearn.metrics import classification_report, confusion_matrix\n"
      ],
      "metadata": {
        "id": "wojIrrTR8fLR"
      },
      "execution_count": null,
      "outputs": []
    },
    {
      "cell_type": "code",
      "source": [
        "# Select features you cleaned and explored\n",
        "features = ['Income', 'Credit_Utilization', 'Missed_Payments', 'Debt_to_Income_Ratio']\n",
        "X = df[features]\n",
        "\n",
        "# Target: 0 = not delinquent, 1 = delinquent\n",
        "y = df['Delinquent_Account']\n"
      ],
      "metadata": {
        "id": "1fToSMvr8hFa"
      },
      "execution_count": null,
      "outputs": []
    },
    {
      "cell_type": "code",
      "source": [
        "X_train, X_test, y_train, y_test = train_test_split(\n",
        "    X, y, test_size=0.2, random_state=42\n",
        ")\n"
      ],
      "metadata": {
        "id": "ECn0AkIs8ntB"
      },
      "execution_count": null,
      "outputs": []
    },
    {
      "cell_type": "code",
      "source": [
        "model = LogisticRegression()\n",
        "model.fit(X_train, y_train)\n"
      ],
      "metadata": {
        "id": "NivirSx_8r8d"
      },
      "execution_count": null,
      "outputs": []
    },
    {
      "cell_type": "code",
      "source": [
        "y_pred = model.predict(X_test)\n",
        "\n",
        "# Evaluation results\n",
        "print(\"Confusion Matrix:\\n\", confusion_matrix(y_test, y_pred))\n",
        "print(\"\\nClassification Report:\\n\", classification_report(y_test, y_pred))\n"
      ],
      "metadata": {
        "id": "XLxOHpLl8v4I"
      },
      "execution_count": null,
      "outputs": []
    }
  ]
}